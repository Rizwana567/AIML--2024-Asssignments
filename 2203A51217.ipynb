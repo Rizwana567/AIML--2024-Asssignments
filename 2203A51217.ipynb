{
  "nbformat": 4,
  "nbformat_minor": 0,
  "metadata": {
    "colab": {
      "provenance": []
    },
    "kernelspec": {
      "name": "python3",
      "display_name": "Python 3"
    },
    "language_info": {
      "name": "python"
    }
  },
  "cells": [
    {
      "cell_type": "code",
      "execution_count": null,
      "metadata": {
        "colab": {
          "base_uri": "https://localhost:8080/"
        },
        "id": "LpE6L3gO1k7T",
        "outputId": "83363e79-0f49-48c3-d192-203d0b57e584"
      },
      "outputs": [
        {
          "output_type": "stream",
          "name": "stdout",
          "text": [
            "[7, 2, 5, 4, 8, 7, 5, 2, 7, 8]\n",
            "<class 'list'>\n"
          ]
        }
      ],
      "source": [
        "#part1\n",
        "x=[7,2,5,4,8]\n",
        "y=[7,5,2,7,8]\n",
        "a=x+y\n",
        "print(a)\n",
        "print(type(a))\n",
        "\n"
      ]
    },
    {
      "cell_type": "code",
      "source": [],
      "metadata": {
        "id": "tJ2a3ISLN1co"
      },
      "execution_count": null,
      "outputs": []
    },
    {
      "cell_type": "code",
      "source": [
        " import numpy as np\n",
        "l1 = np.array([1, 2, 3, 4, 5])\n",
        "print(l1)\n",
        "# Accessing elements\n",
        "print(l1[2])"
      ],
      "metadata": {
        "colab": {
          "base_uri": "https://localhost:8080/"
        },
        "id": "Q4951lhx5rgI",
        "outputId": "a3e8f46f-551f-4e75-b444-24d648179df5"
      },
      "execution_count": null,
      "outputs": [
        {
          "output_type": "stream",
          "name": "stdout",
          "text": [
            "[1 2 3 4 5]\n",
            "3\n"
          ]
        }
      ]
    },
    {
      "cell_type": "code",
      "source": [
        " import numpy as np\n",
        "l1=[7,2,5,4]\n",
        "l2=[6,7,8,4]\n",
        "a=np.array(l1)\n",
        "b=np.array(l2)\n",
        "print(a+b)\n",
        "print(type(a+b))"
      ],
      "metadata": {
        "colab": {
          "base_uri": "https://localhost:8080/"
        },
        "id": "YHsApu4D62vn",
        "outputId": "3a76ccea-bbdd-4b09-8710-a929b4ec9003"
      },
      "execution_count": null,
      "outputs": [
        {
          "output_type": "stream",
          "name": "stdout",
          "text": [
            "[13  9 13  8]\n",
            "<class 'numpy.ndarray'>\n"
          ]
        }
      ]
    },
    {
      "cell_type": "code",
      "source": [
        "import numpy as np\n",
        "a=[[3,2,3],[2,5,6],[5,8,3]]\n",
        "b=[[4,3,4],[2,2,9],[1,2,6]]\n",
        "c=np.array(a)\n",
        "d=np.array(b)\n",
        "print(c+d)\n",
        "#multiplication\n",
        "e=np.matmul(a,b)\n",
        "print(e)\n",
        "f=np.power(a,b)\n",
        "print(f)\n",
        "g=np.divide(a,b)\n",
        "print(g)"
      ],
      "metadata": {
        "colab": {
          "base_uri": "https://localhost:8080/"
        },
        "id": "4D79x9NU6-9f",
        "outputId": "c2daf6cb-1a6b-44f0-f048-d6f6714a75b3"
      },
      "execution_count": null,
      "outputs": [
        {
          "output_type": "stream",
          "name": "stdout",
          "text": [
            "[[ 7  5  7]\n",
            " [ 4  7 15]\n",
            " [ 6 10  9]]\n",
            "[[ 19  19  48]\n",
            " [ 24  28  89]\n",
            " [ 39  37 110]]\n",
            "[[      81        8       81]\n",
            " [       4       25 10077696]\n",
            " [       5       64      729]]\n",
            "[[0.75       0.66666667 0.75      ]\n",
            " [1.         2.5        0.66666667]\n",
            " [5.         4.         0.5       ]]\n"
          ]
        }
      ]
    },
    {
      "cell_type": "code",
      "source": [
        "x=[6,3,2,4]\n",
        "s=np.sin(x)\n",
        "print(s)\n",
        "t=np.log(x)\n",
        "print(t)\n",
        "u=np.log2(x)\n",
        "print(u)\n",
        "v=np.exp(x)\n",
        "print(v)"
      ],
      "metadata": {
        "colab": {
          "base_uri": "https://localhost:8080/"
        },
        "id": "Lg6nxA0M8Au4",
        "outputId": "2ca7647a-5771-4311-8a07-532692d3d03b"
      },
      "execution_count": null,
      "outputs": [
        {
          "output_type": "stream",
          "name": "stdout",
          "text": [
            "[-0.2794155   0.14112001  0.90929743 -0.7568025 ]\n",
            "[1.79175947 1.09861229 0.69314718 1.38629436]\n",
            "[2.5849625 1.5849625 1.        2.       ]\n",
            "[403.42879349  20.08553692   7.3890561   54.59815003]\n"
          ]
        }
      ]
    },
    {
      "cell_type": "code",
      "source": [
        "#part 2\n",
        "#generate a data set\n",
        "import pandas as pd\n",
        "people = ['kiran', 'arun', 'vijay', 'varun']\n",
        "age = [25, 30, 35, 40]\n",
        "height = [145, 151, 165, 173]\n",
        "weight = [45, 55, 65, 75]\n",
        "health = pd.DataFrame({'name': people,'Age': age,'Height': height,'Weight': weight})\n",
        "print(health)\n",
        "\n"
      ],
      "metadata": {
        "colab": {
          "base_uri": "https://localhost:8080/"
        },
        "id": "R64NUQqa82Mf",
        "outputId": "e3fc6d83-4e99-4fe3-9e57-e42a799b73f0"
      },
      "execution_count": null,
      "outputs": [
        {
          "output_type": "stream",
          "name": "stdout",
          "text": [
            "    name  Age  Height  Weight\n",
            "0  kiran   25     145      45\n",
            "1   arun   30     151      55\n",
            "2  vijay   35     165      65\n",
            "3  varun   40     173      75\n"
          ]
        }
      ]
    },
    {
      "cell_type": "code",
      "source": [
        "import pandas as pd\n",
        "import matplotlib.pyplot as plt\n",
        "people = ['kiran', 'arun', 'vijay', 'varun']\n",
        "age = [25, 30, 35, 40]\n",
        "height = [145, 151, 165, 173]\n",
        "weight = [45, 55, 65, 75]\n",
        "health = pd.DataFrame({'People': people, 'Age': age, 'Height': height, 'Weight': weight})\n",
        "#scatter\n",
        "plt.figure(figsize=(8, 6))\n",
        "plt.scatter(health['Age'], health['Weight'])\n",
        "plt.title('Scatter Plot of Age vs Weight')\n",
        "plt.xlabel('Age')\n",
        "plt.ylabel('Weight')\n",
        "plt.grid()\n",
        "plt.show()"
      ],
      "metadata": {
        "colab": {
          "base_uri": "https://localhost:8080/",
          "height": 518
        },
        "id": "cxCwKpKH-eSO",
        "outputId": "f41c35d4-9937-4b62-9aec-d8a68c7e8581"
      },
      "execution_count": null,
      "outputs": [
        {
          "output_type": "display_data",
          "data": {
            "text/plain": [
              "<Figure size 800x600 with 1 Axes>"
            ],
            "image/png": "[encoded data removed]"
          },
          "metadata": {}
        }
      ]
    },
    {
      "cell_type": "code",
      "source": [
        "# Bar Chart\n",
        "plt.figure(figsize=(8, 6))\n",
        "plt.bar(health['People'], health['Height'], color='yellow')\n",
        "plt.title('Bar Chart of People vs Height')\n",
        "plt.xlabel('People')\n",
        "plt.ylabel('Height')\n",
        "plt.grid(axis='y')\n",
        "plt.show()\n"
      ],
      "metadata": {
        "colab": {
          "base_uri": "https://localhost:8080/",
          "height": 512
        },
        "id": "p_4nc8bA-mfe",
        "outputId": "213e7671-2ff4-4344-d275-0e3d8750ffeb"
      },
      "execution_count": null,
      "outputs": [
        {
          "output_type": "display_data",
          "data": {
            "text/plain": [
              "<Figure size 800x600 with 1 Axes>"
            ],
            "image/png": "[encoded data removed]"
          },
          "metadata": {}
        }
      ]
    },
    {
      "cell_type": "code",
      "source": [
        "# Histogram\n",
        "plt.figure(figsize=(8, 6))\n",
        "plt.hist(health['Age'],color='slateblue')\n",
        "plt.title('Histogram of Age')\n",
        "plt.xlabel('Age')\n",
        "plt.ylabel('Frequency')\n",
        "plt.grid(axis='y')\n",
        "plt.show()"
      ],
      "metadata": {
        "colab": {
          "base_uri": "https://localhost:8080/",
          "height": 514
        },
        "id": "LLtev7T2_MiI",
        "outputId": "7eee31e4-e6d2-4f7d-dbe6-1e6380510457"
      },
      "execution_count": null,
      "outputs": [
        {
          "output_type": "display_data",
          "data": {
            "text/plain": [
              "<Figure size 800x600 with 1 Axes>"
            ],
            "image/png": "[encoded data removed]"
          },
          "metadata": {}
        }
      ]
    },
    {
      "cell_type": "code",
      "source": [
        "# Replace with the path to your CSV file in Google Drive\n",
        "csv_file_path = '/content/sheet2.csv'\n",
        "csv_data = pd.read_csv(csv_file_path)\n",
        "print(csv_data)\n"
      ],
      "metadata": {
        "colab": {
          "base_uri": "https://localhost:8080/"
        },
        "id": "23qF7YDpGhHI",
        "outputId": "ad03c972-ad40-461b-ed57-8cf9fb36e5ad"
      },
      "execution_count": null,
      "outputs": [
        {
          "output_type": "stream",
          "name": "stdout",
          "text": [
            "   sno   name  marks\n",
            "0    1  Rohan    100\n",
            "1    2  Madhu    100\n",
            "2    3    Jay     95\n",
            "3    4   sonu     92\n",
            "4    5  Dolly     85\n",
            "5    6   Riya     93\n",
            "6    7  Reena     72\n",
            "7    8   Devi     84\n",
            "8    9  Sumer     95\n",
            "9   10  Anwar     89\n"
          ]
        }
      ]
    },
    {
      "cell_type": "code",
      "source": [
        "# Replace with the path to your Excel file in Google Drive\n",
        "xlsx_file_path = '/content/sheet2.xlsx'\n",
        "xlsx_data = pd.read_excel(xlsx_file_path)\n",
        "print(xlsx_data)"
      ],
      "metadata": {
        "colab": {
          "base_uri": "https://localhost:8080/"
        },
        "id": "Y3xANDA6N6IZ",
        "outputId": "bc1380aa-21ae-4acf-a971-20a072241a52"
      },
      "execution_count": null,
      "outputs": [
        {
          "output_type": "stream",
          "name": "stdout",
          "text": [
            "   sno   name  marks\n",
            "0    1  Rohan    100\n",
            "1    2  Madhu    100\n",
            "2    3    Jay     95\n",
            "3    4   sonu     92\n",
            "4    5  Dolly     85\n",
            "5    6   Riya     93\n",
            "6    7  Reena     72\n",
            "7    8   Devi     84\n",
            "8    9  Sumer     95\n",
            "9   10  Anwar     89\n"
          ]
        }
      ]
    }
  ]
}